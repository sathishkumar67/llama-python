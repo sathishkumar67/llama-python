{
 "cells": [
  {
   "cell_type": "code",
   "execution_count": 14,
   "metadata": {},
   "outputs": [],
   "source": [
    "text = \"\"\"\n",
    "class SentencePieceTokenizer:\n",
    "    def __init__(self, model_path):\n",
    "        # Initialize the SentencePiece processor\n",
    "        self.sp = spm.SentencePieceProcessor()\n",
    "        # Load the SentencePiece model\n",
    "        self.sp.load(model_path)\n",
    "\n",
    "    def encode(self, text):\n",
    "        # Encode the input text into a list of piece ids\n",
    "        piece_ids = self.sp.encode_as_ids(text)\n",
    "        return piece_ids\n",
    "\n",
    "    def decode(self, piece_ids):\n",
    "        # Decode the list of piece ids back into text\n",
    "        text = self.sp.decode_ids(piece_ids)\n",
    "        return text\n",
    "\n",
    "\"\"\""
   ]
  },
  {
   "cell_type": "code",
   "execution_count": 25,
   "metadata": {},
   "outputs": [
    {
     "name": "stderr",
     "output_type": "stream",
     "text": [
      "c:\\Users\\sathi\\Downloads\\pytorch\\llama-python\\.venv\\Lib\\site-packages\\huggingface_hub\\file_download.py:157: UserWarning: `huggingface_hub` cache-system uses symlinks by default to efficiently store duplicated files but your machine does not support them in C:\\Users\\sathi\\.cache\\huggingface\\hub\\models--pt-sk--llama-python. Caching files will still work but in a degraded version that might require more space on your disk. This warning can be disabled by setting the `HF_HUB_DISABLE_SYMLINKS_WARNING` environment variable. For more details, see https://huggingface.co/docs/huggingface_hub/how-to-cache#limitations.\n",
      "To support symlinks on Windows, you either need to activate Developer Mode or to run Python as an administrator. In order to see activate developer mode, see this article: https://docs.microsoft.com/en-us/windows/apps/get-started/enable-your-device-for-development\n",
      "  warnings.warn(message)\n"
     ]
    }
   ],
   "source": [
    "from transformers import LlamaTokenizer\n",
    "llama_tokenizer = LlamaTokenizer.from_pretrained(\"pt-sk/llama-python\")"
   ]
  },
  {
   "cell_type": "code",
   "execution_count": null,
   "metadata": {},
   "outputs": [],
   "source": []
  }
 ],
 "metadata": {
  "kernelspec": {
   "display_name": ".venv",
   "language": "python",
   "name": "python3"
  },
  "language_info": {
   "codemirror_mode": {
    "name": "ipython",
    "version": 3
   },
   "file_extension": ".py",
   "mimetype": "text/x-python",
   "name": "python",
   "nbconvert_exporter": "python",
   "pygments_lexer": "ipython3",
   "version": "3.11.9"
  }
 },
 "nbformat": 4,
 "nbformat_minor": 2
}
